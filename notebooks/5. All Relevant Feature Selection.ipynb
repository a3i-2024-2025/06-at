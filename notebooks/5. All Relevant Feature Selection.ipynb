{
 "cells": [
  {
   "cell_type": "code",
   "execution_count": 1,
   "metadata": {
    "slideshow": {
     "slide_type": "skip"
    }
   },
   "outputs": [
    {
     "name": "stderr",
     "output_type": "stream",
     "text": [
      "/Users/michelelombardi/Library/Caches/pypoetry/virtualenvs/07-at-KRNohLwX-py3.11/lib/python3.11/site-packages/tqdm/auto.py:21: TqdmWarning: IProgress not found. Please update jupyter and ipywidgets. See https://ipywidgets.readthedocs.io/en/stable/user_install.html\n",
      "  from .autonotebook import tqdm as notebook_tqdm\n"
     ]
    }
   ],
   "source": [
    "# ============================================================\n",
    "# Notebook setup\n",
    "# ============================================================\n",
    "\n",
    "%load_ext autoreload\n",
    "%autoreload 2\n",
    "\n",
    "# Control figure size\n",
    "figsize=(14, 4)\n",
    "\n",
    "from util import util\n",
    "from matplotlib import pyplot as plt\n",
    "import numpy as np\n",
    "import seaborn as sn\n",
    "import pandas as pd\n",
    "from sklearn.model_selection import train_test_split\n",
    "from sklearn.preprocessing import StandardScaler\n",
    "from sklearn.metrics import roc_auc_score\n",
    "from sklearn.model_selection import GridSearchCV\n",
    "import xgboost\n",
    "from sklearn.inspection import permutation_importance\n",
    "import shap\n",
    "import pickle\n",
    "import os\n",
    "from boruta import BorutaPy\n",
    "\n",
    "# Generate synthetic data\n",
    "data, name_map = util.generate_data(size=500, seed=42)\n",
    "num_cols = [c for c in data.columns[:-1] if len(data[c].unique()) > 2]\n",
    "cat_cols = [c for c in data.columns[:-1] if len(data[c].unique()) == 2]\n",
    "\n",
    "# Data pre-processing\n",
    "X, y = data[data.columns[:-1]].copy(), data[data.columns[-1]].copy()\n",
    "X_train, X_test, y_train, y_test = train_test_split(X, y, test_size=0.2, random_state=42)\n",
    "scaler = StandardScaler()\n",
    "X_train[num_cols] = scaler.fit_transform(X_train[num_cols])\n",
    "X_test[num_cols] = scaler.transform(X_test[num_cols])\n",
    "\n",
    "# Train a GBT model\n",
    "base_est = xgboost.XGBClassifier(tree_method='hist', importance_type='total_gain')\n",
    "param_grid={'max_depth': [2, 3, 4], 'n_estimators': list(range(20, 41, 5)), 'reg_lambda': np.linspace(0, 500, 6)}\n",
    "gscv = GridSearchCV(base_est, param_grid=param_grid)\n",
    "gscv.fit(X, y)\n",
    "xbm, xbm_params = gscv.best_estimator_, gscv.best_params_\n",
    "\n",
    "# Retrieve SHAP values\n",
    "with open(os.path.join('..', 'data', 'shap_values.pickle'), 'rb') as fp:\n",
    "    shap_values = pickle.load(fp)"
   ]
  },
  {
   "cell_type": "markdown",
   "metadata": {
    "slideshow": {
     "slide_type": "slide"
    }
   },
   "source": [
    "# All Relevant Feature Selection"
   ]
  },
  {
   "cell_type": "markdown",
   "metadata": {
    "slideshow": {
     "slide_type": "subslide"
    }
   },
   "source": [
    "## Racapping Our Path So Far\n",
    "\n",
    "**We started with a somewhat clear goal**\n",
    "\n",
    "* Given data containing candidate correlates and a discrete target\n",
    "* ...We aimed at identifying the most relevant correlates\n",
    "\n",
    "**We applied a baseline approach (Lasso) to:**\n",
    "\n",
    "* Obtain a surrogate for our data-generation process\n",
    "* Analyze the impact of each candidate correlate (feature)\n",
    "* Identify the most relevant correlates\n",
    "\n",
    "**Our baseline turned out to be largely insufficient, so we:**\n",
    "\n",
    "* Trained a non-linear model to obtain a more reliable surrogate\n",
    "* Learn to assess importance via a permutation-based method\n",
    "* Learned to explain individual examples via SHAP\n",
    "\n",
    "**We still have a couple of major open problems...**"
   ]
  },
  {
   "cell_type": "markdown",
   "metadata": {
    "slideshow": {
     "slide_type": "subslide"
    }
   },
   "source": [
    "## Open Problems\n",
    "\n",
    "**There's a mistmatch between local and global explanations**\n",
    "\n",
    "* We are using SHAP to assess local feature effects \n",
    "* ...And permutation importance for global feature effects\n",
    "\n",
    "As a side effect, there may be inconsistences in our analysis"
   ]
  },
  {
   "cell_type": "markdown",
   "metadata": {},
   "source": [
    "**We still don't know how to identify the most relevant features**\n",
    "\n",
    "* Like in the Lasso appproach we could think of using a threshold\n",
    "* ...But we still don't know how such threshold should be calibrated"
   ]
  },
  {
   "cell_type": "markdown",
   "metadata": {},
   "source": [
    "> **It's time that we fix both of them**"
   ]
  },
  {
   "cell_type": "markdown",
   "metadata": {
    "slideshow": {
     "slide_type": "subslide"
    }
   },
   "source": [
    "## Global Feature Analysis via SHAP\n",
    "\n",
    "**SHAP explanations can be aggreated to get global importance scores**\n",
    "\n",
    "By default, this is done by averaring absolute SHAP values:\n",
    "\n",
    "$$\n",
    "\\bar{\\phi}_j(x) = \\frac{1}{n} \\sum_{i=1}^m |\\phi_j(x_i)|\n",
    "$$\n",
    "\n",
    "* Other aggregation functions can also be used (e.g. max)"
   ]
  },
  {
   "cell_type": "markdown",
   "metadata": {},
   "source": [
    "**By using aggregated SHAP scores**\n",
    "\n",
    "...We can attempt to identify the most important correlates\n",
    "\n",
    "* I.e. we can used SHAP scores like we were using permutation importances\n",
    "* In fact, both approaches are sound and well defined"
   ]
  },
  {
   "cell_type": "markdown",
   "metadata": {
    "slideshow": {
     "slide_type": "subslide"
    }
   },
   "source": [
    "## Global Feature Analysis via SHAP\n",
    "\n",
    "**The SHAP library provide convenience functions to plot aggregated values**\n",
    "\n",
    "Here's how to plot mean (absolute) SHAP values:"
   ]
  },
  {
   "cell_type": "code",
   "execution_count": 2,
   "metadata": {},
   "outputs": [
    {
     "data": {
      "image/png": "[encoded data removed]",
      "text/plain": [
       "<Figure size 800x500 with 1 Axes>"
      ]
     },
     "metadata": {},
     "output_type": "display_data"
    }
   ],
   "source": [
    "shap.plots.bar(shap_values, max_display=7)"
   ]
  },
  {
   "cell_type": "markdown",
   "metadata": {
    "slideshow": {
     "slide_type": "subslide"
    }
   },
   "source": [
    "## Global Feature Analysis via SHAP\n",
    "\n",
    "**The SHAP library provide convenience functions to aggregated values**\n",
    "\n",
    "Here's how to display the maximum (absolute) SHAP values:"
   ]
  },
  {
   "cell_type": "code",
   "execution_count": 3,
   "metadata": {},
   "outputs": [
    {
     "data": {
      "image/png": "[encoded data removed]",
      "text/plain": [
       "<Figure size 800x500 with 1 Axes>"
      ]
     },
     "metadata": {},
     "output_type": "display_data"
    }
   ],
   "source": [
    "shap.plots.bar(shap_values.max(0), max_display=7)"
   ]
  },
  {
   "cell_type": "markdown",
   "metadata": {
    "slideshow": {
     "slide_type": "subslide"
    }
   },
   "source": [
    "## Semantics for Feature Selection\n",
    "\n",
    "**A viable approach for feature selection consists in solving:**\n",
    "\n",
    "$$\n",
    "\\mathop{\\mathrm{argmin}}_{\\mathcal{S} \\subseteq \\mathcal{X}} \\left\\{ |\\mathcal{S}| : \\hat{y} = \\hat{f}_{\\mathcal{S}}\\left(x_{\\mathcal{S}}\\right), L\\left(y, \\hat{y}\\right) \\leq \\theta \\right\\}\n",
    "$$\n",
    "\n",
    "Where $x, y$ denote all the training data. Intuitively:\n",
    "\n",
    "* We search for the smallest subset of features $\\mathcal{S}$\n",
    "* ...Such that a model $\\hat{f}_{\\mathcal{S}}$ trained over only over them\n",
    "* ...Still has an acceptable (cross-validation) accuracy\n",
    "\n",
    "Heuristics (e.g. greedy search) can be used to improve scalability"
   ]
  },
  {
   "cell_type": "markdown",
   "metadata": {
    "slideshow": {
     "slide_type": "fragment"
    }
   },
   "source": [
    "**This optimization-driven approach**\n",
    "\n",
    "* ...Can be customized by adjusting the constraint and cost function\n",
    "* ...Can reduce data storage and location costs on the deployed model"
   ]
  },
  {
   "cell_type": "markdown",
   "metadata": {
    "slideshow": {
     "slide_type": "subslide"
    }
   },
   "source": [
    "## Semantics for Feature Selection\n",
    "\n",
    "**If we care just about _cost and accuracy_, the optimization approach is perfect**\n",
    "\n",
    "> **But it is not suitable for our current case study...<br> Can you tell why?**"
   ]
  },
  {
   "cell_type": "markdown",
   "metadata": {
    "slideshow": {
     "slide_type": "fragment"
    }
   },
   "source": [
    "**For a number of reasons:**\n",
    "\n",
    "* We care about finding _all the relevant features_, not a minimal set\n",
    "* How should the accuracy threshold be calibrated?\n",
    "* What about the noise induced by retraining?"
   ]
  },
  {
   "cell_type": "markdown",
   "metadata": {
    "slideshow": {
     "slide_type": "fragment"
    }
   },
   "source": [
    "If we wish to use ML for data analysis, we need another approach\n",
    "\n",
    "**...In particular, we will rely on _statistical hypothesis testing (HT)_**"
   ]
  },
  {
   "cell_type": "markdown",
   "metadata": {
    "slideshow": {
     "slide_type": "subslide"
    }
   },
   "source": [
    "## Statistical Hypothesis Testing\n",
    "\n",
    "**HT builds evidence for a hypothesis by _refuting_ a competing one:**\n",
    "\n",
    "We start with:\n",
    "\n",
    "- a random variable $X$\n",
    "- a hypothesis $H(X)$\n",
    "\n",
    "We define:\n",
    "\n",
    "- a competing _null hypothesis_ $H_0(X)$\n",
    "- a experimental statistics $T[X]$, e.g. an expected value, an estimate probability"
   ]
  },
  {
   "cell_type": "markdown",
   "metadata": {},
   "source": [
    "**In most cases:**\n",
    "\n",
    "* $H_0$ is often the negation of our original hypothesis\n",
    "* $T[X]$ is a quantity that, if large enough, supports our hypothesis"
   ]
  },
  {
   "cell_type": "markdown",
   "metadata": {
    "slideshow": {
     "slide_type": "subslide"
    }
   },
   "source": [
    "## Statistical Hypothesis Testing\n",
    "\n",
    "**We reject the null hypothesis by checking what happens _when $H_0$ is true_**\n",
    "\n",
    "In particular, we need to compute:\n",
    "\n",
    "* the _empirical_ value $t$ of $T[x \\mid H_0]$ on a sample $x$\n",
    "* the _theoretical_ probability of the computed value, i.e. $P(T[X \\mid H_0] \\geq t)$\n",
    "\n",
    "The former usually requires dedicated experiments (e.g. with a control group) "
   ]
  },
  {
   "cell_type": "markdown",
   "metadata": {},
   "source": [
    "**The probability $P(T[X \\mid H_0] = t)$ is called a $p$-value**\n",
    "\n",
    "* If $p$ is small enough, we can say that $H_0$ is likely false\n",
    "* ...Which in turn provides support for our original hypothesis"
   ]
  },
  {
   "cell_type": "markdown",
   "metadata": {
    "slideshow": {
     "slide_type": "subslide"
    }
   },
   "source": [
    "<div class=big>\n",
    "    <small>This is probably very confusing...</small><br>\n",
    "    Let's make an example for our case\n",
    "</div>"
   ]
  },
  {
   "cell_type": "markdown",
   "metadata": {
    "slideshow": {
     "slide_type": "subslide"
    }
   },
   "source": [
    "## Hypothesis, Data, and Null-Hypothesis\n",
    "\n",
    "**First, we need to define our _variable_ and _hypothesis_**\n",
    "\n",
    "We care about identifying correlates, so a possible choice might be:\n",
    "\n",
    "* The variable will be the pair $(X, Y)$, i.e. observable and target\n",
    "* $H \\equiv \\text{\"} X \\text{ is important to predict } Y$, according to some indicator $r[X, Y]$"
   ]
  },
  {
   "cell_type": "markdown",
   "metadata": {
    "slideshow": {
     "slide_type": "fragment"
    }
   },
   "source": [
    "**Now we need a competing _null hypothesis_**\n",
    "\n",
    "A good choice might be $H_0 \\equiv \\text{\"} \\text{the importance of } X \\text{ is due to chance}$\n",
    "\n",
    "* In this case, refuting $H_0$ lends directly support for $H$\n",
    "* Other situations might be more complicated"
   ]
  },
  {
   "cell_type": "markdown",
   "metadata": {
    "slideshow": {
     "slide_type": "fragment"
    }
   },
   "source": [
    "> **The real difficulty is defining the _test statistics_**"
   ]
  },
  {
   "cell_type": "markdown",
   "metadata": {
    "slideshow": {
     "slide_type": "subslide"
    }
   },
   "source": [
    "## Towards a Test Statistics\n",
    "\n",
    "**Let's consider the _desired properties for the test statistics_**\n",
    "\n",
    "* It should be related to both $H$ and $H_0$\n",
    "* It should be a measurable experimental outcome\n",
    "* We should be able to run experiments, assuming that $H_0$ is true\n",
    "* We shoudd be able to compute probabilities, assuming that $H_0$ is true"
   ]
  },
  {
   "cell_type": "markdown",
   "metadata": {
    "slideshow": {
     "slide_type": "fragment"
    }
   },
   "source": [
    "**...And let's consider out situation**\n",
    "\n",
    "* We care about importance, both in $H$ and in $H_0$\n",
    "* We can measure importance via the $r[X, Y]$ indicator\n",
    "* We already have a sample $(x, y)$ where $r$ has a larg-ish value\n",
    "\n",
    "...But what about the other desired properties?"
   ]
  },
  {
   "cell_type": "markdown",
   "metadata": {
    "slideshow": {
     "slide_type": "subslide"
    }
   },
   "source": [
    "## Towards a Test Statistics\n",
    "\n",
    "**Let's consider this inequality**\n",
    "\n",
    "$$\n",
    "r[\\tilde{x}, \\tilde{y}] \\leq r^* \\qquad \\text{ with: } r^* = r[x, y]\n",
    "$$\n",
    "\n",
    "* $r[x, y]$ is the correlation value measured on our data\n",
    "* $(\\tilde{x}, \\tilde{y})$ is a sample from $(\\tilde{X}, \\tilde{Y})$\n",
    "* ...Where $(\\tilde{X}, \\tilde{Y})$ are similar to $(X, Y)$, but _uncorrelated_\n",
    "\n",
    "Later, we will need to find a way to sample from $(\\tilde{X}, \\tilde{Y})$"
   ]
  },
  {
   "cell_type": "markdown",
   "metadata": {
    "slideshow": {
     "slide_type": "fragment"
    }
   },
   "source": [
    "**Then:**\n",
    "\n",
    "* If $X$ and $Y$ are correlated, we would expect the inequality to be usually true\n",
    "* Otherwise, the inequality might be true or false, depending on chance"
   ]
  },
  {
   "cell_type": "markdown",
   "metadata": {
    "slideshow": {
     "slide_type": "subslide"
    }
   },
   "source": [
    "## Towards a Test Statistics\n",
    "\n",
    "**In other words, we use a statistics the expectation**\n",
    "\n",
    "...Which can be estimated via the expectation:\n",
    "\n",
    "$$\n",
    "T[X, Y \\mid H_0] \\equiv \\sum_{i = 1}^m P(r[\\tilde{X}, \\tilde{Y}] \\leq r^*)\n",
    "$$\n",
    "\n",
    "* I.e. the number of times the inequality holds when sampling $m$ times $(\\tilde{X}, \\tilde{Y})$"
   ]
  },
  {
   "cell_type": "markdown",
   "metadata": {
    "slideshow": {
     "slide_type": "fragment"
    }
   },
   "source": [
    "**For this statistics, we need do two things**\n",
    "\n",
    "* Computing the theoretical distribution $P(T[X, Y \\mid H_0])$\n",
    "* Computing the empirical value $P(T[x, y \\mid H_0])$"
   ]
  },
  {
   "cell_type": "markdown",
   "metadata": {
    "slideshow": {
     "slide_type": "subslide"
    }
   },
   "source": [
    "## Test Statistic and Theoretical Probability\n",
    "\n",
    "**Let's consider again our test $r[\\tilde{X}, \\tilde{Y}] \\leq r^*$**\n",
    "\n",
    "Since it has a binary outcome, it will follow a [Bernoulli distribution](https://en.wikipedia.org/wiki/Bernoulli_distribution)\n",
    "\n",
    "* If we assume that the result is due to chance...\n",
    "* ...Then the associated probability should be $^1/_2$"
   ]
  },
  {
   "cell_type": "markdown",
   "metadata": {},
   "source": [
    "**If we make repeated experiments with samples $(\\tilde{x}, \\tilde{y})$**\n",
    "\n",
    "...The _number of observed events $r[\\tilde{x}, \\tilde{y}] \\leq r^*$_ will follow a [binomial distribution](https://en.wikipedia.org/wiki/Binomial_distribution)\n",
    "\n",
    "* Given the number of experiments $n$\n",
    "* ...The probability of $T[X, Y \\mid H_0]$ should be $B(n, {^1/_2})$"
   ]
  },
  {
   "cell_type": "markdown",
   "metadata": {},
   "source": [
    "**Hence, $B(n, {^1/_2})$ is the theoretical distribution under $H_0$ for our statistics**"
   ]
  },
  {
   "cell_type": "markdown",
   "metadata": {
    "slideshow": {
     "slide_type": "subslide"
    }
   },
   "source": [
    "## Theoretical Probability Computation\n",
    "\n",
    "**We can easily compute and plot the distribution**"
   ]
  },
  {
   "cell_type": "code",
   "execution_count": 11,
   "metadata": {},
   "outputs": [
    {
     "data": {
      "image/png": "[encoded data removed]",
      "text/plain": [
       "<Figure size 1400x400 with 1 Axes>"
      ]
     },
     "metadata": {},
     "output_type": "display_data"
    }
   ],
   "source": [
    "util.binomial_plot(n=30, p=0.5, figsize=figsize)"
   ]
  },
  {
   "cell_type": "markdown",
   "metadata": {},
   "source": [
    "* This tells us how likely we are to observe a certain number of events\n",
    "* ...Assuming that the null hypothesis is true"
   ]
  },
  {
   "cell_type": "markdown",
   "metadata": {
    "slideshow": {
     "slide_type": "subslide"
    }
   },
   "source": [
    "<div class=big>\n",
    "...But how do we run the experiments?<br>\n",
    "<small>We need to simulate lack of correlation in $(X, Y)$<br>...Without additional assumptions</small>\n",
    "</div>"
   ]
  },
  {
   "cell_type": "markdown",
   "metadata": {
    "slideshow": {
     "slide_type": "subslide"
    }
   },
   "source": [
    "## Empirical Probability Computation\n",
    "\n",
    "**We can use a Monte-Carlo approach**\n",
    "\n",
    "The trick is once again relying on _permutations_\n",
    "\n",
    "* If we shuffle the values of one variable (say the values $x$ of $X$)\n",
    "* ...We can get a correlation with $Y$ only by chance\n",
    "* ...But we otherwise preserve the distribution of the sample"
   ]
  },
  {
   "cell_type": "markdown",
   "metadata": {
    "slideshow": {
     "slide_type": "fragment"
    }
   },
   "source": [
    "**We can mitigate sampling noise via repeated experiments**\n",
    "\n",
    "* Then, we take our _empirically observed_ number $t = T[X, Y \\mid H_0]$ of events\n",
    "* ...And we match it against the theoretical probability\n",
    "\n",
    "Any sufficiently low probability will allow use to reject $H_0$"
   ]
  },
  {
   "cell_type": "markdown",
   "metadata": {
    "slideshow": {
     "slide_type": "subslide"
    }
   },
   "source": [
    "## $p$-Value and the Statistical Test\n",
    "\n",
    "**Basically, there is a \"target interval\" in the distribution**"
   ]
  },
  {
   "cell_type": "code",
   "execution_count": 12,
   "metadata": {},
   "outputs": [
    {
     "data": {
      "image/png": "[encoded data removed]",
      "text/plain": [
       "<Figure size 1400x400 with 1 Axes>"
      ]
     },
     "metadata": {},
     "output_type": "display_data"
    }
   ],
   "source": [
    "util.binomial_plot(n=30, p=0.5, l_alpha=0.05, figsize=figsize)"
   ]
  },
  {
   "cell_type": "markdown",
   "metadata": {},
   "source": [
    "* For any value $t$ in the interval, we have $P(T[X, Y \\mid H_0] = t) \\leq 1-\\alpha$\n",
    "* ...Where $\\alpha$ is our desired _confidence level_"
   ]
  },
  {
   "cell_type": "markdown",
   "metadata": {
    "slideshow": {
     "slide_type": "subslide"
    }
   },
   "source": [
    "## $p$-Value and the Statistical Test\n",
    "\n",
    "**Basically, there is a \"target interval\" in the distribution**"
   ]
  },
  {
   "cell_type": "code",
   "execution_count": 13,
   "metadata": {},
   "outputs": [
    {
     "data": {
      "image/png": "[encoded data removed]",
      "text/plain": [
       "<Figure size 1400x400 with 1 Axes>"
      ]
     },
     "metadata": {},
     "output_type": "display_data"
    }
   ],
   "source": [
    "util.binomial_plot(n=30, p=0.5, l_alpha=0.05, figsize=figsize)"
   ]
  },
  {
   "cell_type": "markdown",
   "metadata": {},
   "source": [
    "* In practice it's more common to compute the _$p$-value_ $P(T(X, Y) \\geq t \\mid H_0)$\n",
    "* ...Which can then be immediately compared with $1 - \\alpha$"
   ]
  },
  {
   "cell_type": "markdown",
   "metadata": {
    "slideshow": {
     "slide_type": "subslide"
    }
   },
   "source": [
    "## Back to the Procedure Description\n",
    "\n",
    "**The procedure should be clearer now**\n",
    "\n",
    "Let's recap the steps:\n",
    "\n",
    "* We define our random variable $X$ the hypothesis $H$\n",
    "* We formulate a competing _null hypothesis $H_0$_\n",
    "* We define a _test statistics_ $T[X]$, linked to $H$ and $H_0$\n",
    "* Assuming that $H_0$ holds:\n",
    "  - We define the theoretical probability $P(T[X, Y \\mid H_0])$\n",
    "  - We compute the empirical value $T[x, y \\mid H_0]$\n",
    "* We compute the $p$ value $P(T[x, y \\mid H_0])$\n",
    "* If $p \\leq 1 - \\alpha$ for some confidence $\\alpha$, we _reject the null hypothesis_"
   ]
  },
  {
   "cell_type": "markdown",
   "metadata": {
    "slideshow": {
     "slide_type": "subslide"
    }
   },
   "source": [
    "## Testing a Hypothesis and Its Negation\n",
    "\n",
    "**In our case, the method works also for testing the _opposite_ hypothesis**\n",
    "\n",
    "* Our hypothesis becomes $\\neg H * \\equiv \\text{\"} X \\text{ is not important to predict } Y$\n",
    "* The null hypothesis is the same as before\n",
    "* The test statistics is just $n-T[X, Y \\mid H_=]$, for the same $T$ as before\n",
    "\n",
    "Then we can proceed as in the previous case"
   ]
  },
  {
   "cell_type": "markdown",
   "metadata": {
    "slideshow": {
     "slide_type": "fragment"
    }
   },
   "source": [
    "**Since we are relying on the same test statistics**\n",
    "\n",
    "...We can use the same set of experiments to test both hypotheses\n",
    "\n",
    "* Intuitively, in both cases we look at the number of times $r[\\tilde{x}, \\tilde{y}] \\leq r^*$\n",
    "* If hits is sufficiently high, it's likely that the $H$ holds\n",
    "* ...If this is sufficiently low, it's likely that $\\neg H$ holds"
   ]
  },
  {
   "cell_type": "markdown",
   "metadata": {
    "slideshow": {
     "slide_type": "subslide"
    }
   },
   "source": [
    "## Testing a Hypothesis and Its Negation\n",
    "\n",
    "**In other words, we will end up having _two target intervals_**"
   ]
  },
  {
   "cell_type": "code",
   "execution_count": 14,
   "metadata": {},
   "outputs": [
    {
     "data": {
      "image/png": "[encoded data removed]",
      "text/plain": [
       "<Figure size 1400x400 with 1 Axes>"
      ]
     },
     "metadata": {},
     "output_type": "display_data"
    }
   ],
   "source": [
    "util.binomial_plot(n=30, p=0.5, l_alpha=0.05, r_alpha=0.05, l_color='tab:green', r_color='tab:red', figsize=figsize)"
   ]
  },
  {
   "cell_type": "markdown",
   "metadata": {},
   "source": [
    "* If $T$ is in the green region, we support $H$ (e.g. confirmed importance)\n",
    "* If $T$ is in the red region, we support $\\neg H$ (e.g. confirmed non-importance)\n",
    "* If $T$ lands in the center region, we support no claim"
   ]
  },
  {
   "cell_type": "markdown",
   "metadata": {
    "slideshow": {
     "slide_type": "subslide"
    }
   },
   "source": [
    "## Boruta\n",
    "\n",
    "**The approach we have just seen is the backbone of [the Boruta algorithm](https://www.jstatsoft.org/article/view/v036i11)**\n",
    "\n",
    "* The Boruta algorithm is a SotA feature selection method\n",
    "* ...That relies in statistical HT to determine relevant features"
   ]
  },
  {
   "cell_type": "markdown",
   "metadata": {},
   "source": [
    "**Like in our analysis, the method relies on surrogate models**\n",
    "\n",
    "...And in particular on tree ensembles (the name refers to [a Slavic forest spirit](https://en.wikipedia.org/wiki/Devil_Boruta))\n",
    "\n",
    "* As a consequence, the algorithm can deal with non-linear correlations\n",
    "* ...And accounts for interactions between multiple features"
   ]
  },
  {
   "cell_type": "markdown",
   "metadata": {},
   "source": [
    "**Boruta is an all-relevant feature selector**\n",
    "\n",
    "* This makes it particularly well suited for scientific analyses\n",
    "* ...But it can be used to reduce data collection costs or improve generalization"
   ]
  },
  {
   "cell_type": "markdown",
   "metadata": {
    "slideshow": {
     "slide_type": "subslide"
    }
   },
   "source": [
    "## Tested Hypothesis in Boruta\n",
    "\n",
    "**Boruta relies on a measure of feature importance**\n",
    "\n",
    "* The original algorithm and the [BorutaPy package](https://github.com/scikit-learn-contrib/boruta_py) use permutation importance\n",
    "* An unmaintained [version based on SHAP](https://github.com/Ekeany/Boruta-Shap) is also available\n",
    "\n",
    "In both cases, importance is computed w.r.t. a reference dataset"
   ]
  },
  {
   "cell_type": "markdown",
   "metadata": {},
   "source": [
    "**The hypothesis $H$ being tested is more general than ours and consists in:**\n",
    "\n",
    "> <i>\"Feature $j$ is important among those in the dataset,<br> according to the chosen metric\"</i>\n",
    "\n",
    "* This is bit more general than the one we considered\n",
    "* ...And it require as slighly more sophisticated test statistics"
   ]
  },
  {
   "cell_type": "markdown",
   "metadata": {
    "slideshow": {
     "slide_type": "subslide"
    }
   },
   "source": [
    "## Test Statistics in Boruta\n",
    "\n",
    "**The main idea is stil to rely on permuted features**\n",
    "\n",
    "Let $(x, y)$ be our original dataset\n",
    "\n",
    "* First, we _augmented_ it by introducing permuted versions $\\tilde{X}$ of all features\n",
    "* These are called _shadow features_ by the algorithm. Let their values be $\\tilde{x}$\n",
    "\n",
    "Then, we train a predictive model on $(x, \\tilde{x}, y)$"
   ]
  },
  {
   "cell_type": "markdown",
   "metadata": {},
   "source": [
    "**Let $\\phi_j((x,\\tilde{x}), y)$ be the importance of feature $j$, on the augmented dataset**\n",
    "\n",
    "* If the feature is important, its $\\phi_j$ should beat the shadow features\n",
    "* Therefore, we can consider the event\n",
    "\n",
    "$$\n",
    "\\phi_j((x, \\tilde{x}), y) > \\max_{j \\in \\tilde{X}} \\phi_j((x, \\tilde{x}), y)\n",
    "$$"
   ]
  },
  {
   "cell_type": "markdown",
   "metadata": {
    "slideshow": {
     "slide_type": "subslide"
    }
   },
   "source": [
    "## Test Statistics in Boruta\n",
    "\n",
    "**Then the testing statistics $T$ is similar to the one we used:**\n",
    "\n",
    "* The algorithms performs multiple experiments (retraining the model)\n",
    "* ...And counts the number of times the event is satisfied (\"hits\")"
   ]
  },
  {
   "cell_type": "markdown",
   "metadata": {
    "slideshow": {
     "slide_type": "-"
    }
   },
   "source": [
    "**The thereotical distribution for $T$ under $H_0$ is _mostly_ a binomial**\n",
    "\n",
    "* The algorithm needs to apply some _statistical corrections_\n",
    "* ...Since we are testing multiple features together (we have a $\\max$)"
   ]
  },
  {
   "cell_type": "markdown",
   "metadata": {},
   "source": [
    "**Boruta tests both the positive and negative hypothesis**\n",
    "\n",
    "Therefore, at the end of the process:\n",
    "\n",
    "* Some features will be _confirmed important_\n",
    "* Some features will be _confirmed unimportant_\n",
    "* Some features will be remain _tentative_"
   ]
  },
  {
   "cell_type": "markdown",
   "metadata": {
    "slideshow": {
     "slide_type": "subslide"
    }
   },
   "source": [
    "## Using Boruta in Practice\n",
    "\n",
    "**We'll use Boruta through the BorutaPy package**"
   ]
  },
  {
   "cell_type": "code",
   "execution_count": 20,
   "metadata": {},
   "outputs": [],
   "source": [
    "bfs = BorutaPy(xbm, n_estimators='auto', max_iter=100, verbose=0, random_state=42)\n",
    "bfs.fit(X=X, y=y);"
   ]
  },
  {
   "cell_type": "markdown",
   "metadata": {},
   "source": [
    "* We can choose how many samples to use\n",
    "* The algorithm also determines the best number of estimators"
   ]
  },
  {
   "cell_type": "markdown",
   "metadata": {
    "slideshow": {
     "slide_type": "fragment"
    }
   },
   "source": [
    "**Let's see which features have been selected**"
   ]
  },
  {
   "cell_type": "code",
   "execution_count": 35,
   "metadata": {
    "slideshow": {
     "slide_type": "-"
    }
   },
   "outputs": [
    {
     "name": "stdout",
     "output_type": "stream",
     "text": [
      "Confirmed important: ['u1' 'u10' 'u12' 'u13']\n",
      "Uncomfirmed: ['u4']\n",
      "Confirmed unimportant: ['u0' 'u2' 'u3' 'u5' 'u6' 'u7' 'u8' 'u9' 'u11' 'u14']\n"
     ]
    }
   ],
   "source": [
    "print('Confirmed important:', X.columns[bfs.ranking_ == 1].values)\n",
    "print('Uncomfirmed:', X.columns[bfs.ranking_ == 2].values)\n",
    "print('Confirmed unimportant:', X.columns[bfs.ranking_ > 2].values)"
   ]
  },
  {
   "cell_type": "markdown",
   "metadata": {
    "slideshow": {
     "slide_type": "subslide"
    }
   },
   "source": [
    "<div class=big>\n",
    "Ok, but... Did it work?<br>\n",
    "</div>"
   ]
  },
  {
   "cell_type": "markdown",
   "metadata": {
    "slideshow": {
     "slide_type": "slide"
    }
   },
   "source": [
    "## What we Have Discovered\n",
    "\n",
    "**So far, by using Boruta we found that:**\n",
    "\n",
    "* There seem to be 4 relevant features, i.e. $U_1, U_{10}, U_{12}, U_{13}$"
   ]
  },
  {
   "cell_type": "markdown",
   "metadata": {},
   "source": [
    "**By inspecting the data we found that:**\n",
    "\n",
    "* $U_{12}$ and $U_{13}$ are roughly Normally distributed\n",
    "* $U_1$ is not Normally distributed\n",
    "* $U_{10}$ is binary"
   ]
  },
  {
   "cell_type": "markdown",
   "metadata": {},
   "source": [
    "**By using SHAP we found that:**\n",
    "\n",
    "* $U_{13}$ has a mostly monotonic effect\n",
    "* $U_{12}$ has a complex effect, which seems to be modulated by $U_{10}$\n",
    "* $U_1$ seems to have mostly an anti-monotonic effect"
   ]
  },
  {
   "cell_type": "markdown",
   "metadata": {
    "slideshow": {
     "slide_type": "subslide"
    }
   },
   "source": [
    "<div class=big>\n",
    "We can now inspect the ground truth process<br>\n",
    "<small>So we can check whether our results actually hold</small>\n",
    "</div>"
   ]
  },
  {
   "cell_type": "markdown",
   "metadata": {
    "slideshow": {
     "slide_type": "subslide"
    }
   },
   "source": [
    "## Checking the Ground Truth\n",
    "\n",
    "**The ground-truth process is described by this causal graph:**\n",
    "\n",
    "<center>\n",
    "    <img src=\"assets/causal_graph.png\" width=\"35%\">\n",
    "</center>\n",
    "\n",
    "* The $Y$ variable (in <strong style=\"color: DeepSkyBlue\">blue</strong>) is the target\n",
    "* The variables in <strong>black</strong> are those that are relevant\n",
    "* The variables in <strong style=\"color: DimGray\">gray</strong> are not observable, i.e. latent\n",
    "* The variables in <strong style=\"color: FireBrick\">red</strong> are irrelevant"
   ]
  },
  {
   "cell_type": "markdown",
   "metadata": {
    "slideshow": {
     "slide_type": "subslide"
    }
   },
   "source": [
    "## Checking the Ground Truth\n",
    "\n",
    "**The process was engineered to contain several classical cases**\n",
    "\n",
    "<center>\n",
    "    <img src=\"assets/causal_graph.png\" width=\"35%\">\n",
    "</center>\n",
    "\n",
    "$X_2$ is a _mediator_ beween $X_0, X_1$ and $Y$\n",
    "\n",
    "* The variable partially hides the effect of $X_0$ and $X_1$\n",
    "* If it does that completely, even Boruta cannot mark $X_0$ and $X_1$ as important\n",
    "* Depending on the use case, this might be an issue"
   ]
  },
  {
   "cell_type": "markdown",
   "metadata": {
    "slideshow": {
     "slide_type": "subslide"
    }
   },
   "source": [
    "## Checking the Ground Truth\n",
    "\n",
    "**The process was engineered to contain several classical cases**\n",
    "\n",
    "<center>\n",
    "    <img src=\"assets/causal_graph.png\" width=\"35%\">\n",
    "</center>\n",
    "\n",
    "$X_2$ is also a complete mediator for $Z_0$\n",
    "\n",
    "* ...But in this case it is a good thing!\n",
    "* $Z_0$ is not observed, but we can account for that at least indirectly"
   ]
  },
  {
   "cell_type": "markdown",
   "metadata": {
    "slideshow": {
     "slide_type": "subslide"
    }
   },
   "source": [
    "## Checking the Ground Truth\n",
    "\n",
    "**The process was engineered to contain several classical cases**\n",
    "\n",
    "<center>\n",
    "    <img src=\"assets/causal_graph.png\" width=\"35%\">\n",
    "</center>\n",
    "\n",
    "$Z_1$ is a _confounder_ and causes a correlation between $X_1$ and $X_0$\n",
    "\n",
    "* It is totally mediated by $X_1$, which is a good thing\n",
    "* ...But it also causes a correlation between $X_0$ and $X_4$\n",
    "* This might trick a model into considering $X_4$ as important"
   ]
  },
  {
   "cell_type": "markdown",
   "metadata": {
    "slideshow": {
     "slide_type": "subslide"
    }
   },
   "source": [
    "## Checking the Ground Truth\n",
    "\n",
    "**In detail, the data is generated as follows:**\n",
    "\n",
    "$$\\begin{align}\n",
    "Z_0 & \\sim \\mathcal{N}(\\mu=0, \\sigma=1.5) \\\\\n",
    "Z_1 & \\sim \\mathcal{N}(\\mu=0, \\sigma=1) \\\\\n",
    "X_0 & \\sim \\mathcal{N}(\\mu=0, \\sigma=1) + Z_1 \\\\\n",
    "\\log X_1 & \\sim \\mathcal{N}(\\mu=0, \\sigma=1) \\\\\n",
    "X_2 & = {^1/_2} (X_0 + X_1) + Z_0 \\\\\n",
    "X_3 & \\sim B(p=0.6) \\\\\n",
    "\\text{logit}(Y) & \\sim (-1+2 X_3) X_2 + 0.4 X_0 - 0.4 X_1\n",
    "\\end{align}$$\n",
    "\n",
    "* All other variables are follow either a Normal or Bernoulli distribution\n",
    "* ...And they have sparse correlations among themselves"
   ]
  },
  {
   "cell_type": "markdown",
   "metadata": {
    "slideshow": {
     "slide_type": "subslide"
    }
   },
   "source": [
    "## Checking the Ground Truth\n",
    "\n",
    "**Now let's check how accurate our importance estimate is:**\n",
    "\n",
    "<center>\n",
    "    <img src=\"assets/causal_graph.png\" width=\"30%\">\n",
    "</center>"
   ]
  },
  {
   "cell_type": "code",
   "execution_count": 37,
   "metadata": {},
   "outputs": [
    {
     "name": "stdout",
     "output_type": "stream",
     "text": [
      "The accepted feature are ['u1' 'u10' 'u12' 'u13']\n",
      "...Which correspond to ['X1', 'X3', 'X2', 'X0']\n"
     ]
    }
   ],
   "source": [
    "print(f'The accepted feature are {X.columns[bfs.ranking_ == 1].values}')\n",
    "print(f'...Which correspond to {[name_map[f] for f in X.columns[bfs.ranking_ == 1].values]}')"
   ]
  },
  {
   "cell_type": "markdown",
   "metadata": {
    "slideshow": {
     "slide_type": "slide"
    }
   },
   "source": [
    "## What we Have Discovered\n",
    "\n",
    "**Now, let's check our findings, with the due substitutions:**\n",
    "\n",
    "* The relevant features are $X_0, X_1, X_2, X_3$ $\\rightarrow$ **correct!**\n",
    "* All claims on distributions $\\rightarrow$ **mostly correct!**\n",
    "  - $X_2$ is a sum of 3 variables, two of which are Normal\n",
    "* $X_0$ has a mostly monotonic effect $\\rightarrow$ **correct!**\n",
    "  - Direct monotonic effect on $Y$ + a complex one mediated by $X_2$\n",
    "* $X_1$ has a mostly anti-monotonic effect $\\rightarrow$ **correct!**\n",
    "  - Direct anti-monotonic effect on $Y$ + a complex one mediated by $X_2$\n",
    "* $X_2$ has complex effect modulated by $X_3$ $\\rightarrow$ **correct!**\n",
    "  - $X_3$ decides the sign of the $X_2$ contribution"
   ]
  },
  {
   "cell_type": "markdown",
   "metadata": {
    "slideshow": {
     "slide_type": "subslide"
    }
   },
   "source": [
    "## A Few Final Remarks\n",
    "\n",
    "**ML models are not just for prediction!**\n",
    "\n",
    "* They can be used for generation, anomaly detection, decision support\n",
    "* ...And also as tools for a scientific analysis!"
   ]
  },
  {
   "cell_type": "markdown",
   "metadata": {},
   "source": [
    "**Explainability is an important topic in AI**\n",
    "\n",
    "* It is one of the main approaches to make an AI model _transparent_\n",
    "* This critical when AI systems need to interact with human users\n",
    "* ...And for some domains it is also required by existing regulations"
   ]
  },
  {
   "cell_type": "markdown",
   "metadata": {},
   "source": [
    "**Beware of correlated features**\n",
    "\n",
    "* Strongly correlated features (e.g mediated-mediator) may mislead algorithms\n",
    "* Dealing with those is still a partially open problem!"
   ]
  }
 ],
 "metadata": {
  "celltoolbar": "Slideshow",
  "kernelspec": {
   "display_name": "Python 3 (ipykernel)",
   "language": "python",
   "name": "python3"
  },
  "language_info": {
   "codemirror_mode": {
    "name": "ipython",
    "version": 3
   },
   "file_extension": ".py",
   "mimetype": "text/x-python",
   "name": "python",
   "nbconvert_exporter": "python",
   "pygments_lexer": "ipython3",
   "version": "3.11.9"
  },
  "rise": {
   "center": false,
   "enable_chalkboard": true,
   "transition": "fade"
  }
 },
 "nbformat": 4,
 "nbformat_minor": 4
}
